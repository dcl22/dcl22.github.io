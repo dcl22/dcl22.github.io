{
 "cells": [
  {
   "cell_type": "markdown",
   "metadata": {},
   "source": [
    "# Chicago Crime Prediction"
   ]
  },
  {
   "cell_type": "markdown",
   "metadata": {},
   "source": [
    "## By Dong C. Lee"
   ]
  },
  {
   "cell_type": "markdown",
   "metadata": {},
   "source": [
    "The purpose and the motivation of this tutorial is to exercise data science techniques on real-life datasets of Chicago crime incidents and develop a ML model to predict type of crimes that might happen in certain locations in Chicago. Examining and studying crime data is very important real-life concerns of preventing crimes and ensuring public safety. In respect to data science, studying with crime data is very interesting. By using data sceince techniques to examine and visualize crime data, "
   ]
  },
  {
   "cell_type": "markdown",
   "metadata": {},
   "source": [
    "## Data Processing"
   ]
  },
  {
   "cell_type": "markdown",
   "metadata": {},
   "source": [
    "The data was retrieved from https://data.cityofchicago.org/Public-Safety/Crimes-2001-to-present/ijzp-q8t2. The datsets are well orgnaized in DataFrame. The original data contains large amounts of criminal incident records from 2001 to present but I decided to focus only on 2016 data to reduce the data size."
   ]
  },
  {
   "cell_type": "code",
   "execution_count": 1,
   "metadata": {
    "collapsed": true
   },
   "outputs": [],
   "source": [
    "import pandas as pd"
   ]
  },
  {
   "cell_type": "code",
   "execution_count": 2,
   "metadata": {
    "collapsed": false
   },
   "outputs": [],
   "source": [
    "# reading csv file\n",
    "org_table = pd.read_csv(\"Crimes_-_2016.csv\")"
   ]
  },
  {
   "cell_type": "code",
   "execution_count": 3,
   "metadata": {
    "collapsed": false
   },
   "outputs": [
    {
     "data": {
      "text/html": [
       "<div>\n",
       "<table border=\"1\" class=\"dataframe\">\n",
       "  <thead>\n",
       "    <tr style=\"text-align: right;\">\n",
       "      <th></th>\n",
       "      <th>ID</th>\n",
       "      <th>Case Number</th>\n",
       "      <th>Date</th>\n",
       "      <th>Block</th>\n",
       "      <th>IUCR</th>\n",
       "      <th>Primary Type</th>\n",
       "      <th>Description</th>\n",
       "      <th>Location Description</th>\n",
       "      <th>Arrest</th>\n",
       "      <th>Domestic</th>\n",
       "      <th>...</th>\n",
       "      <th>Ward</th>\n",
       "      <th>Community Area</th>\n",
       "      <th>FBI Code</th>\n",
       "      <th>X Coordinate</th>\n",
       "      <th>Y Coordinate</th>\n",
       "      <th>Year</th>\n",
       "      <th>Updated On</th>\n",
       "      <th>Latitude</th>\n",
       "      <th>Longitude</th>\n",
       "      <th>Location</th>\n",
       "    </tr>\n",
       "  </thead>\n",
       "  <tbody>\n",
       "    <tr>\n",
       "      <th>0</th>\n",
       "      <td>10508593</td>\n",
       "      <td>HZ250410</td>\n",
       "      <td>05/03/2016 09:00:00 PM</td>\n",
       "      <td>042XX W MADISON ST</td>\n",
       "      <td>1811</td>\n",
       "      <td>NARCOTICS</td>\n",
       "      <td>POSS: CANNABIS 30GMS OR LESS</td>\n",
       "      <td>SIDEWALK</td>\n",
       "      <td>True</td>\n",
       "      <td>False</td>\n",
       "      <td>...</td>\n",
       "      <td>28</td>\n",
       "      <td>26</td>\n",
       "      <td>18</td>\n",
       "      <td>1148220.0</td>\n",
       "      <td>1899677.0</td>\n",
       "      <td>2016</td>\n",
       "      <td>05/10/2016 03:56:50 PM</td>\n",
       "      <td>41.880658</td>\n",
       "      <td>-87.731212</td>\n",
       "      <td>(41.880658176, -87.731212135)</td>\n",
       "    </tr>\n",
       "    <tr>\n",
       "      <th>1</th>\n",
       "      <td>10508594</td>\n",
       "      <td>HZ250385</td>\n",
       "      <td>05/03/2016 09:35:00 PM</td>\n",
       "      <td>065XX S KEDVALE AVE</td>\n",
       "      <td>0810</td>\n",
       "      <td>THEFT</td>\n",
       "      <td>OVER $500</td>\n",
       "      <td>APARTMENT</td>\n",
       "      <td>False</td>\n",
       "      <td>True</td>\n",
       "      <td>...</td>\n",
       "      <td>13</td>\n",
       "      <td>65</td>\n",
       "      <td>06</td>\n",
       "      <td>1149830.0</td>\n",
       "      <td>1860872.0</td>\n",
       "      <td>2016</td>\n",
       "      <td>05/10/2016 03:56:50 PM</td>\n",
       "      <td>41.774141</td>\n",
       "      <td>-87.726307</td>\n",
       "      <td>(41.77414081, -87.726307093)</td>\n",
       "    </tr>\n",
       "    <tr>\n",
       "      <th>2</th>\n",
       "      <td>10508595</td>\n",
       "      <td>HZ250362</td>\n",
       "      <td>05/03/2016 02:45:00 PM</td>\n",
       "      <td>045XX S DAMEN AVE</td>\n",
       "      <td>0560</td>\n",
       "      <td>ASSAULT</td>\n",
       "      <td>SIMPLE</td>\n",
       "      <td>STREET</td>\n",
       "      <td>False</td>\n",
       "      <td>True</td>\n",
       "      <td>...</td>\n",
       "      <td>12</td>\n",
       "      <td>61</td>\n",
       "      <td>08A</td>\n",
       "      <td>1163662.0</td>\n",
       "      <td>1874660.0</td>\n",
       "      <td>2016</td>\n",
       "      <td>05/10/2016 03:56:50 PM</td>\n",
       "      <td>41.811698</td>\n",
       "      <td>-87.675214</td>\n",
       "      <td>(41.811697721, -87.675214316)</td>\n",
       "    </tr>\n",
       "    <tr>\n",
       "      <th>3</th>\n",
       "      <td>10508597</td>\n",
       "      <td>HZ250202</td>\n",
       "      <td>05/03/2016 06:42:00 PM</td>\n",
       "      <td>063XX S CLAREMONT AVE</td>\n",
       "      <td>0486</td>\n",
       "      <td>BATTERY</td>\n",
       "      <td>DOMESTIC BATTERY SIMPLE</td>\n",
       "      <td>SIDEWALK</td>\n",
       "      <td>False</td>\n",
       "      <td>True</td>\n",
       "      <td>...</td>\n",
       "      <td>15</td>\n",
       "      <td>66</td>\n",
       "      <td>08B</td>\n",
       "      <td>1161829.0</td>\n",
       "      <td>1862607.0</td>\n",
       "      <td>2016</td>\n",
       "      <td>05/10/2016 03:56:50 PM</td>\n",
       "      <td>41.778661</td>\n",
       "      <td>-87.682273</td>\n",
       "      <td>(41.778661058, -87.68227253)</td>\n",
       "    </tr>\n",
       "    <tr>\n",
       "      <th>4</th>\n",
       "      <td>10508598</td>\n",
       "      <td>HZ250298</td>\n",
       "      <td>05/03/2016 03:00:00 PM</td>\n",
       "      <td>070XX S INDIANA AVE</td>\n",
       "      <td>0320</td>\n",
       "      <td>ROBBERY</td>\n",
       "      <td>STRONGARM - NO WEAPON</td>\n",
       "      <td>SIDEWALK</td>\n",
       "      <td>False</td>\n",
       "      <td>False</td>\n",
       "      <td>...</td>\n",
       "      <td>6</td>\n",
       "      <td>69</td>\n",
       "      <td>03</td>\n",
       "      <td>1178808.0</td>\n",
       "      <td>1858478.0</td>\n",
       "      <td>2016</td>\n",
       "      <td>05/10/2016 03:56:50 PM</td>\n",
       "      <td>41.766961</td>\n",
       "      <td>-87.620152</td>\n",
       "      <td>(41.766961034, -87.620152116)</td>\n",
       "    </tr>\n",
       "  </tbody>\n",
       "</table>\n",
       "<p>5 rows × 22 columns</p>\n",
       "</div>"
      ],
      "text/plain": [
       "         ID Case Number                    Date                  Block  IUCR  \\\n",
       "0  10508593    HZ250410  05/03/2016 09:00:00 PM     042XX W MADISON ST  1811   \n",
       "1  10508594    HZ250385  05/03/2016 09:35:00 PM    065XX S KEDVALE AVE  0810   \n",
       "2  10508595    HZ250362  05/03/2016 02:45:00 PM      045XX S DAMEN AVE  0560   \n",
       "3  10508597    HZ250202  05/03/2016 06:42:00 PM  063XX S CLAREMONT AVE  0486   \n",
       "4  10508598    HZ250298  05/03/2016 03:00:00 PM    070XX S INDIANA AVE  0320   \n",
       "\n",
       "  Primary Type                   Description Location Description Arrest  \\\n",
       "0    NARCOTICS  POSS: CANNABIS 30GMS OR LESS             SIDEWALK   True   \n",
       "1        THEFT                     OVER $500            APARTMENT  False   \n",
       "2      ASSAULT                        SIMPLE               STREET  False   \n",
       "3      BATTERY       DOMESTIC BATTERY SIMPLE             SIDEWALK  False   \n",
       "4      ROBBERY         STRONGARM - NO WEAPON             SIDEWALK  False   \n",
       "\n",
       "  Domestic              ...                Ward  Community Area  FBI Code  \\\n",
       "0    False              ...                  28              26        18   \n",
       "1     True              ...                  13              65        06   \n",
       "2     True              ...                  12              61       08A   \n",
       "3     True              ...                  15              66       08B   \n",
       "4    False              ...                   6              69        03   \n",
       "\n",
       "   X Coordinate Y Coordinate  Year              Updated On   Latitude  \\\n",
       "0     1148220.0    1899677.0  2016  05/10/2016 03:56:50 PM  41.880658   \n",
       "1     1149830.0    1860872.0  2016  05/10/2016 03:56:50 PM  41.774141   \n",
       "2     1163662.0    1874660.0  2016  05/10/2016 03:56:50 PM  41.811698   \n",
       "3     1161829.0    1862607.0  2016  05/10/2016 03:56:50 PM  41.778661   \n",
       "4     1178808.0    1858478.0  2016  05/10/2016 03:56:50 PM  41.766961   \n",
       "\n",
       "   Longitude                       Location  \n",
       "0 -87.731212  (41.880658176, -87.731212135)  \n",
       "1 -87.726307   (41.77414081, -87.726307093)  \n",
       "2 -87.675214  (41.811697721, -87.675214316)  \n",
       "3 -87.682273   (41.778661058, -87.68227253)  \n",
       "4 -87.620152  (41.766961034, -87.620152116)  \n",
       "\n",
       "[5 rows x 22 columns]"
      ]
     },
     "execution_count": 3,
     "metadata": {},
     "output_type": "execute_result"
    }
   ],
   "source": [
    "# show head of the table\n",
    "org_table.head(5)"
   ]
  },
  {
   "cell_type": "code",
   "execution_count": 4,
   "metadata": {
    "collapsed": false
   },
   "outputs": [
    {
     "data": {
      "text/plain": [
       "['ID',\n",
       " 'Case Number',\n",
       " 'Date',\n",
       " 'Block',\n",
       " 'IUCR',\n",
       " 'Primary Type',\n",
       " 'Description',\n",
       " 'Location Description',\n",
       " 'Arrest',\n",
       " 'Domestic',\n",
       " 'Beat',\n",
       " 'District',\n",
       " 'Ward',\n",
       " 'Community Area',\n",
       " 'FBI Code',\n",
       " 'X Coordinate',\n",
       " 'Y Coordinate',\n",
       " 'Year',\n",
       " 'Updated On',\n",
       " 'Latitude',\n",
       " 'Longitude',\n",
       " 'Location']"
      ]
     },
     "execution_count": 4,
     "metadata": {},
     "output_type": "execute_result"
    }
   ],
   "source": [
    "# show column names\n",
    "list(org_table)"
   ]
  },
  {
   "cell_type": "code",
   "execution_count": 5,
   "metadata": {
    "collapsed": false
   },
   "outputs": [],
   "source": [
    "# dropping any rows that contain NaN value\n",
    "\n",
    "table = org_table.dropna()"
   ]
  },
  {
   "cell_type": "code",
   "execution_count": 6,
   "metadata": {
    "collapsed": false
   },
   "outputs": [],
   "source": [
    "# drop useless data\n",
    "table = table.drop('FBI Code',1)\n",
    "table = table.drop('Updated On',1)\n",
    "table = table.drop('Beat',1)\n",
    "table = table.drop('Location Description',1)\n",
    "table = table.drop('Case Number',1)\n",
    "table = table.drop('IUCR',1)\n",
    "table = table.drop('Arrest',1)\n",
    "table = table.drop('Block',1)\n",
    "table = table.drop('Description',1)\n",
    "table = table.drop('Domestic',1)\n"
   ]
  },
  {
   "cell_type": "markdown",
   "metadata": {},
   "source": [
    "I first searched for empty data. Rows with empty data are simple deleted. Deleting empty rows would not be a significant effect on the model since there are still large amount of data available. By looking at the columns of the data, I dropped irrelvant datasets and reduced data size. Date, Primary Type, and Community Area are the most essential data in this tutorial. Most of the data are irrelevant in this tutorial. I kept X Coordinate, Y Coordinate, Latitude, Longitude, and Location just in case they may be useful in later analysis."
   ]
  },
  {
   "cell_type": "code",
   "execution_count": 7,
   "metadata": {
    "collapsed": false
   },
   "outputs": [
    {
     "data": {
      "text/html": [
       "<div>\n",
       "<table border=\"1\" class=\"dataframe\">\n",
       "  <thead>\n",
       "    <tr style=\"text-align: right;\">\n",
       "      <th></th>\n",
       "      <th>ID</th>\n",
       "      <th>Date</th>\n",
       "      <th>Primary Type</th>\n",
       "      <th>District</th>\n",
       "      <th>Ward</th>\n",
       "      <th>Community Area</th>\n",
       "      <th>X Coordinate</th>\n",
       "      <th>Y Coordinate</th>\n",
       "      <th>Year</th>\n",
       "      <th>Latitude</th>\n",
       "      <th>Longitude</th>\n",
       "      <th>Location</th>\n",
       "    </tr>\n",
       "  </thead>\n",
       "  <tbody>\n",
       "    <tr>\n",
       "      <th>0</th>\n",
       "      <td>10508593</td>\n",
       "      <td>05/03/2016 09:00:00 PM</td>\n",
       "      <td>NARCOTICS</td>\n",
       "      <td>11</td>\n",
       "      <td>28</td>\n",
       "      <td>26</td>\n",
       "      <td>1148220.0</td>\n",
       "      <td>1899677.0</td>\n",
       "      <td>2016</td>\n",
       "      <td>41.880658</td>\n",
       "      <td>-87.731212</td>\n",
       "      <td>(41.880658176, -87.731212135)</td>\n",
       "    </tr>\n",
       "    <tr>\n",
       "      <th>1</th>\n",
       "      <td>10508594</td>\n",
       "      <td>05/03/2016 09:35:00 PM</td>\n",
       "      <td>THEFT</td>\n",
       "      <td>8</td>\n",
       "      <td>13</td>\n",
       "      <td>65</td>\n",
       "      <td>1149830.0</td>\n",
       "      <td>1860872.0</td>\n",
       "      <td>2016</td>\n",
       "      <td>41.774141</td>\n",
       "      <td>-87.726307</td>\n",
       "      <td>(41.77414081, -87.726307093)</td>\n",
       "    </tr>\n",
       "    <tr>\n",
       "      <th>2</th>\n",
       "      <td>10508595</td>\n",
       "      <td>05/03/2016 02:45:00 PM</td>\n",
       "      <td>ASSAULT</td>\n",
       "      <td>9</td>\n",
       "      <td>12</td>\n",
       "      <td>61</td>\n",
       "      <td>1163662.0</td>\n",
       "      <td>1874660.0</td>\n",
       "      <td>2016</td>\n",
       "      <td>41.811698</td>\n",
       "      <td>-87.675214</td>\n",
       "      <td>(41.811697721, -87.675214316)</td>\n",
       "    </tr>\n",
       "    <tr>\n",
       "      <th>3</th>\n",
       "      <td>10508597</td>\n",
       "      <td>05/03/2016 06:42:00 PM</td>\n",
       "      <td>BATTERY</td>\n",
       "      <td>8</td>\n",
       "      <td>15</td>\n",
       "      <td>66</td>\n",
       "      <td>1161829.0</td>\n",
       "      <td>1862607.0</td>\n",
       "      <td>2016</td>\n",
       "      <td>41.778661</td>\n",
       "      <td>-87.682273</td>\n",
       "      <td>(41.778661058, -87.68227253)</td>\n",
       "    </tr>\n",
       "    <tr>\n",
       "      <th>4</th>\n",
       "      <td>10508598</td>\n",
       "      <td>05/03/2016 03:00:00 PM</td>\n",
       "      <td>ROBBERY</td>\n",
       "      <td>3</td>\n",
       "      <td>6</td>\n",
       "      <td>69</td>\n",
       "      <td>1178808.0</td>\n",
       "      <td>1858478.0</td>\n",
       "      <td>2016</td>\n",
       "      <td>41.766961</td>\n",
       "      <td>-87.620152</td>\n",
       "      <td>(41.766961034, -87.620152116)</td>\n",
       "    </tr>\n",
       "  </tbody>\n",
       "</table>\n",
       "</div>"
      ],
      "text/plain": [
       "         ID                    Date Primary Type  District  Ward  \\\n",
       "0  10508593  05/03/2016 09:00:00 PM    NARCOTICS        11    28   \n",
       "1  10508594  05/03/2016 09:35:00 PM        THEFT         8    13   \n",
       "2  10508595  05/03/2016 02:45:00 PM      ASSAULT         9    12   \n",
       "3  10508597  05/03/2016 06:42:00 PM      BATTERY         8    15   \n",
       "4  10508598  05/03/2016 03:00:00 PM      ROBBERY         3     6   \n",
       "\n",
       "   Community Area  X Coordinate  Y Coordinate  Year   Latitude  Longitude  \\\n",
       "0              26     1148220.0     1899677.0  2016  41.880658 -87.731212   \n",
       "1              65     1149830.0     1860872.0  2016  41.774141 -87.726307   \n",
       "2              61     1163662.0     1874660.0  2016  41.811698 -87.675214   \n",
       "3              66     1161829.0     1862607.0  2016  41.778661 -87.682273   \n",
       "4              69     1178808.0     1858478.0  2016  41.766961 -87.620152   \n",
       "\n",
       "                        Location  \n",
       "0  (41.880658176, -87.731212135)  \n",
       "1   (41.77414081, -87.726307093)  \n",
       "2  (41.811697721, -87.675214316)  \n",
       "3   (41.778661058, -87.68227253)  \n",
       "4  (41.766961034, -87.620152116)  "
      ]
     },
     "execution_count": 7,
     "metadata": {},
     "output_type": "execute_result"
    }
   ],
   "source": [
    "table.head()"
   ]
  },
  {
   "cell_type": "code",
   "execution_count": 8,
   "metadata": {
    "collapsed": false
   },
   "outputs": [],
   "source": [
    "# make a list of crime types\n",
    "types = []\n",
    "crime_type = table['Primary Type']\n",
    "for x,y in crime_type.iteritems():\n",
    "    if y not in types:\n",
    "        types.append(y)\n",
    "        \n",
    "# check number of occurences for each crime type.\n",
    "type_occ = {}\n",
    "for x in types:\n",
    "    type_occ[x] = 0\n",
    "\n",
    "for x,y in crime_type.iteritems():\n",
    "    type_occ[y] = type_occ[y] + 1\n"
   ]
  },
  {
   "cell_type": "code",
   "execution_count": 9,
   "metadata": {
    "collapsed": true
   },
   "outputs": [],
   "source": [
    "# deleting crime types that have less than 10000 occurrences\n",
    "less = []\n",
    "for x in type_occ:\n",
    "    if type_occ[x] < 10000:\n",
    "        less.append(x)\n",
    "\n",
    "# dropping values in Primary Type\n",
    "for x in less:\n",
    "    table = table[table[\"Primary Type\"] != x]"
   ]
  },
  {
   "cell_type": "markdown",
   "metadata": {},
   "source": [
    "The size of the data had been reduced by deleting rows that had crime types with less than 10000 cases reported. By doing this, only major crime types will be calculated into the model."
   ]
  },
  {
   "cell_type": "code",
   "execution_count": 10,
   "metadata": {
    "collapsed": false,
    "scrolled": true
   },
   "outputs": [
    {
     "data": {
      "text/html": [
       "<div>\n",
       "<table border=\"1\" class=\"dataframe\">\n",
       "  <thead>\n",
       "    <tr style=\"text-align: right;\">\n",
       "      <th></th>\n",
       "      <th>ID</th>\n",
       "      <th>Date</th>\n",
       "      <th>Primary Type</th>\n",
       "      <th>District</th>\n",
       "      <th>Ward</th>\n",
       "      <th>Community Area</th>\n",
       "      <th>X Coordinate</th>\n",
       "      <th>Y Coordinate</th>\n",
       "      <th>Year</th>\n",
       "      <th>Latitude</th>\n",
       "      <th>Longitude</th>\n",
       "      <th>Location</th>\n",
       "    </tr>\n",
       "  </thead>\n",
       "  <tbody>\n",
       "    <tr>\n",
       "      <th>0</th>\n",
       "      <td>10508593</td>\n",
       "      <td>05/03/2016 09:00:00 PM</td>\n",
       "      <td>NARCOTICS</td>\n",
       "      <td>11</td>\n",
       "      <td>28</td>\n",
       "      <td>26</td>\n",
       "      <td>1148220.0</td>\n",
       "      <td>1899677.0</td>\n",
       "      <td>2016</td>\n",
       "      <td>41.880658</td>\n",
       "      <td>-87.731212</td>\n",
       "      <td>(41.880658176, -87.731212135)</td>\n",
       "    </tr>\n",
       "    <tr>\n",
       "      <th>1</th>\n",
       "      <td>10508594</td>\n",
       "      <td>05/03/2016 09:35:00 PM</td>\n",
       "      <td>THEFT</td>\n",
       "      <td>8</td>\n",
       "      <td>13</td>\n",
       "      <td>65</td>\n",
       "      <td>1149830.0</td>\n",
       "      <td>1860872.0</td>\n",
       "      <td>2016</td>\n",
       "      <td>41.774141</td>\n",
       "      <td>-87.726307</td>\n",
       "      <td>(41.77414081, -87.726307093)</td>\n",
       "    </tr>\n",
       "    <tr>\n",
       "      <th>2</th>\n",
       "      <td>10508595</td>\n",
       "      <td>05/03/2016 02:45:00 PM</td>\n",
       "      <td>ASSAULT</td>\n",
       "      <td>9</td>\n",
       "      <td>12</td>\n",
       "      <td>61</td>\n",
       "      <td>1163662.0</td>\n",
       "      <td>1874660.0</td>\n",
       "      <td>2016</td>\n",
       "      <td>41.811698</td>\n",
       "      <td>-87.675214</td>\n",
       "      <td>(41.811697721, -87.675214316)</td>\n",
       "    </tr>\n",
       "    <tr>\n",
       "      <th>3</th>\n",
       "      <td>10508597</td>\n",
       "      <td>05/03/2016 06:42:00 PM</td>\n",
       "      <td>BATTERY</td>\n",
       "      <td>8</td>\n",
       "      <td>15</td>\n",
       "      <td>66</td>\n",
       "      <td>1161829.0</td>\n",
       "      <td>1862607.0</td>\n",
       "      <td>2016</td>\n",
       "      <td>41.778661</td>\n",
       "      <td>-87.682273</td>\n",
       "      <td>(41.778661058, -87.68227253)</td>\n",
       "    </tr>\n",
       "    <tr>\n",
       "      <th>4</th>\n",
       "      <td>10508598</td>\n",
       "      <td>05/03/2016 03:00:00 PM</td>\n",
       "      <td>ROBBERY</td>\n",
       "      <td>3</td>\n",
       "      <td>6</td>\n",
       "      <td>69</td>\n",
       "      <td>1178808.0</td>\n",
       "      <td>1858478.0</td>\n",
       "      <td>2016</td>\n",
       "      <td>41.766961</td>\n",
       "      <td>-87.620152</td>\n",
       "      <td>(41.766961034, -87.620152116)</td>\n",
       "    </tr>\n",
       "  </tbody>\n",
       "</table>\n",
       "</div>"
      ],
      "text/plain": [
       "         ID                    Date Primary Type  District  Ward  \\\n",
       "0  10508593  05/03/2016 09:00:00 PM    NARCOTICS        11    28   \n",
       "1  10508594  05/03/2016 09:35:00 PM        THEFT         8    13   \n",
       "2  10508595  05/03/2016 02:45:00 PM      ASSAULT         9    12   \n",
       "3  10508597  05/03/2016 06:42:00 PM      BATTERY         8    15   \n",
       "4  10508598  05/03/2016 03:00:00 PM      ROBBERY         3     6   \n",
       "\n",
       "   Community Area  X Coordinate  Y Coordinate  Year   Latitude  Longitude  \\\n",
       "0              26     1148220.0     1899677.0  2016  41.880658 -87.731212   \n",
       "1              65     1149830.0     1860872.0  2016  41.774141 -87.726307   \n",
       "2              61     1163662.0     1874660.0  2016  41.811698 -87.675214   \n",
       "3              66     1161829.0     1862607.0  2016  41.778661 -87.682273   \n",
       "4              69     1178808.0     1858478.0  2016  41.766961 -87.620152   \n",
       "\n",
       "                        Location  \n",
       "0  (41.880658176, -87.731212135)  \n",
       "1   (41.77414081, -87.726307093)  \n",
       "2  (41.811697721, -87.675214316)  \n",
       "3   (41.778661058, -87.68227253)  \n",
       "4  (41.766961034, -87.620152116)  "
      ]
     },
     "execution_count": 10,
     "metadata": {},
     "output_type": "execute_result"
    }
   ],
   "source": [
    "table.head()"
   ]
  },
  {
   "cell_type": "code",
   "execution_count": 11,
   "metadata": {
    "collapsed": false
   },
   "outputs": [],
   "source": [
    "import re"
   ]
  },
  {
   "cell_type": "code",
   "execution_count": 12,
   "metadata": {
    "collapsed": false
   },
   "outputs": [],
   "source": [
    "# a pattern to match Date\n",
    "pattern = '(.+) (\\d\\d):(\\d\\d):\\d\\d (.+)'\n",
    "\n",
    "# retrieve Date\n",
    "date_list = table.Date.tolist()\n"
   ]
  },
  {
   "cell_type": "code",
   "execution_count": 13,
   "metadata": {
    "collapsed": true
   },
   "outputs": [],
   "source": [
    "# match pattern and replace Date data\n",
    "# minutes are ignored\n",
    "# convert AM and PM system\n",
    "\n",
    "new_date_list = []\n",
    "for x in date_list:\n",
    "    result = re.match(pattern,x)\n",
    "    \n",
    "    # grouped values\n",
    "    date = result.group(1)\n",
    "    hr = result.group(2)\n",
    "    am_pm = result.group(4)\n",
    "    \n",
    "    hr = int(hr)\n",
    "    \n",
    "    # add 12 to hour if it's PM\n",
    "    if am_pm == 'PM':\n",
    "        hr = hr + 12\n",
    "    \n",
    "    # append 0 to hours less than 10 to match format\n",
    "    if hr < 10:\n",
    "        hr = str(hr)\n",
    "        hr = '0' + hr\n",
    "    else:\n",
    "        hr = str(hr)\n",
    "\n",
    "    # subtitute original date with new date and add to the new date list\n",
    "    sub = re.sub(pattern, date + \" \" + hr + \":00\" ,result.group(0))\n",
    "    new_date_list.append(sub)"
   ]
  },
  {
   "cell_type": "code",
   "execution_count": 14,
   "metadata": {
    "collapsed": false
   },
   "outputs": [],
   "source": [
    "# create new dataframe and series of New Date\n",
    "df = pd.DataFrame({'New_Date': new_date_list})\n",
    "s = df['New_Date']"
   ]
  },
  {
   "cell_type": "markdown",
   "metadata": {},
   "source": [
    "Here, I used regex module to parse Date data to make New_date column. 'AM' and 'PM' are dropped to get a 24 hour measurement. Minutes are also dropped so that time measurement is simple and less complicated."
   ]
  },
  {
   "cell_type": "code",
   "execution_count": 15,
   "metadata": {
    "collapsed": false
   },
   "outputs": [
    {
     "data": {
      "text/html": [
       "<div>\n",
       "<table border=\"1\" class=\"dataframe\">\n",
       "  <thead>\n",
       "    <tr style=\"text-align: right;\">\n",
       "      <th></th>\n",
       "      <th>ID</th>\n",
       "      <th>Date</th>\n",
       "      <th>Primary Type</th>\n",
       "      <th>District</th>\n",
       "      <th>Ward</th>\n",
       "      <th>Community Area</th>\n",
       "      <th>X Coordinate</th>\n",
       "      <th>Y Coordinate</th>\n",
       "      <th>Year</th>\n",
       "      <th>Latitude</th>\n",
       "      <th>Longitude</th>\n",
       "      <th>Location</th>\n",
       "      <th>New_Date</th>\n",
       "    </tr>\n",
       "  </thead>\n",
       "  <tbody>\n",
       "    <tr>\n",
       "      <th>0</th>\n",
       "      <td>10508593</td>\n",
       "      <td>05/03/2016 09:00:00 PM</td>\n",
       "      <td>NARCOTICS</td>\n",
       "      <td>11</td>\n",
       "      <td>28</td>\n",
       "      <td>26</td>\n",
       "      <td>1148220.0</td>\n",
       "      <td>1899677.0</td>\n",
       "      <td>2016</td>\n",
       "      <td>41.880658</td>\n",
       "      <td>-87.731212</td>\n",
       "      <td>(41.880658176, -87.731212135)</td>\n",
       "      <td>05/03/2016 21:00</td>\n",
       "    </tr>\n",
       "    <tr>\n",
       "      <th>1</th>\n",
       "      <td>10508594</td>\n",
       "      <td>05/03/2016 09:35:00 PM</td>\n",
       "      <td>THEFT</td>\n",
       "      <td>8</td>\n",
       "      <td>13</td>\n",
       "      <td>65</td>\n",
       "      <td>1149830.0</td>\n",
       "      <td>1860872.0</td>\n",
       "      <td>2016</td>\n",
       "      <td>41.774141</td>\n",
       "      <td>-87.726307</td>\n",
       "      <td>(41.77414081, -87.726307093)</td>\n",
       "      <td>05/03/2016 21:00</td>\n",
       "    </tr>\n",
       "    <tr>\n",
       "      <th>2</th>\n",
       "      <td>10508595</td>\n",
       "      <td>05/03/2016 02:45:00 PM</td>\n",
       "      <td>ASSAULT</td>\n",
       "      <td>9</td>\n",
       "      <td>12</td>\n",
       "      <td>61</td>\n",
       "      <td>1163662.0</td>\n",
       "      <td>1874660.0</td>\n",
       "      <td>2016</td>\n",
       "      <td>41.811698</td>\n",
       "      <td>-87.675214</td>\n",
       "      <td>(41.811697721, -87.675214316)</td>\n",
       "      <td>05/03/2016 14:00</td>\n",
       "    </tr>\n",
       "    <tr>\n",
       "      <th>3</th>\n",
       "      <td>10508597</td>\n",
       "      <td>05/03/2016 06:42:00 PM</td>\n",
       "      <td>BATTERY</td>\n",
       "      <td>8</td>\n",
       "      <td>15</td>\n",
       "      <td>66</td>\n",
       "      <td>1161829.0</td>\n",
       "      <td>1862607.0</td>\n",
       "      <td>2016</td>\n",
       "      <td>41.778661</td>\n",
       "      <td>-87.682273</td>\n",
       "      <td>(41.778661058, -87.68227253)</td>\n",
       "      <td>05/03/2016 18:00</td>\n",
       "    </tr>\n",
       "    <tr>\n",
       "      <th>4</th>\n",
       "      <td>10508598</td>\n",
       "      <td>05/03/2016 03:00:00 PM</td>\n",
       "      <td>ROBBERY</td>\n",
       "      <td>3</td>\n",
       "      <td>6</td>\n",
       "      <td>69</td>\n",
       "      <td>1178808.0</td>\n",
       "      <td>1858478.0</td>\n",
       "      <td>2016</td>\n",
       "      <td>41.766961</td>\n",
       "      <td>-87.620152</td>\n",
       "      <td>(41.766961034, -87.620152116)</td>\n",
       "      <td>05/03/2016 15:00</td>\n",
       "    </tr>\n",
       "  </tbody>\n",
       "</table>\n",
       "</div>"
      ],
      "text/plain": [
       "         ID                    Date Primary Type  District  Ward  \\\n",
       "0  10508593  05/03/2016 09:00:00 PM    NARCOTICS        11    28   \n",
       "1  10508594  05/03/2016 09:35:00 PM        THEFT         8    13   \n",
       "2  10508595  05/03/2016 02:45:00 PM      ASSAULT         9    12   \n",
       "3  10508597  05/03/2016 06:42:00 PM      BATTERY         8    15   \n",
       "4  10508598  05/03/2016 03:00:00 PM      ROBBERY         3     6   \n",
       "\n",
       "   Community Area  X Coordinate  Y Coordinate  Year   Latitude  Longitude  \\\n",
       "0              26     1148220.0     1899677.0  2016  41.880658 -87.731212   \n",
       "1              65     1149830.0     1860872.0  2016  41.774141 -87.726307   \n",
       "2              61     1163662.0     1874660.0  2016  41.811698 -87.675214   \n",
       "3              66     1161829.0     1862607.0  2016  41.778661 -87.682273   \n",
       "4              69     1178808.0     1858478.0  2016  41.766961 -87.620152   \n",
       "\n",
       "                        Location          New_Date  \n",
       "0  (41.880658176, -87.731212135)  05/03/2016 21:00  \n",
       "1   (41.77414081, -87.726307093)  05/03/2016 21:00  \n",
       "2  (41.811697721, -87.675214316)  05/03/2016 14:00  \n",
       "3   (41.778661058, -87.68227253)  05/03/2016 18:00  \n",
       "4  (41.766961034, -87.620152116)  05/03/2016 15:00  "
      ]
     },
     "execution_count": 15,
     "metadata": {},
     "output_type": "execute_result"
    }
   ],
   "source": [
    "# reset index to match IDs and concantenate the data table with New Date\n",
    "table = table.reset_index(drop=True)\n",
    "table = pd.concat([table,s],axis=1)\n",
    "table.head()\n"
   ]
  },
  {
   "cell_type": "code",
   "execution_count": 16,
   "metadata": {
    "collapsed": false
   },
   "outputs": [],
   "source": [
    "# divide date and time to different columns\n",
    "pattern = '^(\\d\\d)/(\\d\\d)/2016 (\\d\\d:\\d\\d)$'\n",
    "\n",
    "# get New_Date as dict\n",
    "new_date_list = table['New_Date'].tolist()"
   ]
  },
  {
   "cell_type": "code",
   "execution_count": 17,
   "metadata": {
    "collapsed": false
   },
   "outputs": [],
   "source": [
    "# split New_Date into Time, Day, and Month\n",
    "time_list = []\n",
    "day_list = []\n",
    "month_list = []\n",
    "\n",
    "# iterate New_Date and split into Time, Day, and Month lists\n",
    "for x in new_date_list:\n",
    "    result = re.match(pattern,x)\n",
    "    \n",
    "    month = result.group(1)\n",
    "    day = result.group(2)\n",
    "    hr = result.group(3)\n",
    "    \n",
    "    time_list.append(hr)\n",
    "    day_list.append(day)\n",
    "    month_list.append(month)"
   ]
  },
  {
   "cell_type": "code",
   "execution_count": 19,
   "metadata": {
    "collapsed": false,
    "scrolled": true
   },
   "outputs": [
    {
     "data": {
      "text/html": [
       "<div>\n",
       "<table border=\"1\" class=\"dataframe\">\n",
       "  <thead>\n",
       "    <tr style=\"text-align: right;\">\n",
       "      <th></th>\n",
       "      <th>ID</th>\n",
       "      <th>Date</th>\n",
       "      <th>Primary Type</th>\n",
       "      <th>District</th>\n",
       "      <th>Ward</th>\n",
       "      <th>Community Area</th>\n",
       "      <th>X Coordinate</th>\n",
       "      <th>Y Coordinate</th>\n",
       "      <th>Year</th>\n",
       "      <th>Latitude</th>\n",
       "      <th>Longitude</th>\n",
       "      <th>Location</th>\n",
       "      <th>New_Date</th>\n",
       "      <th>Month</th>\n",
       "      <th>Day</th>\n",
       "      <th>Time</th>\n",
       "    </tr>\n",
       "  </thead>\n",
       "  <tbody>\n",
       "    <tr>\n",
       "      <th>0</th>\n",
       "      <td>10508593</td>\n",
       "      <td>05/03/2016 09:00:00 PM</td>\n",
       "      <td>NARCOTICS</td>\n",
       "      <td>11</td>\n",
       "      <td>28</td>\n",
       "      <td>26</td>\n",
       "      <td>1148220.0</td>\n",
       "      <td>1899677.0</td>\n",
       "      <td>2016</td>\n",
       "      <td>41.880658</td>\n",
       "      <td>-87.731212</td>\n",
       "      <td>(41.880658176, -87.731212135)</td>\n",
       "      <td>05/03/2016 21:00</td>\n",
       "      <td>05</td>\n",
       "      <td>03</td>\n",
       "      <td>21:00</td>\n",
       "    </tr>\n",
       "    <tr>\n",
       "      <th>1</th>\n",
       "      <td>10508594</td>\n",
       "      <td>05/03/2016 09:35:00 PM</td>\n",
       "      <td>THEFT</td>\n",
       "      <td>8</td>\n",
       "      <td>13</td>\n",
       "      <td>65</td>\n",
       "      <td>1149830.0</td>\n",
       "      <td>1860872.0</td>\n",
       "      <td>2016</td>\n",
       "      <td>41.774141</td>\n",
       "      <td>-87.726307</td>\n",
       "      <td>(41.77414081, -87.726307093)</td>\n",
       "      <td>05/03/2016 21:00</td>\n",
       "      <td>05</td>\n",
       "      <td>03</td>\n",
       "      <td>21:00</td>\n",
       "    </tr>\n",
       "    <tr>\n",
       "      <th>2</th>\n",
       "      <td>10508595</td>\n",
       "      <td>05/03/2016 02:45:00 PM</td>\n",
       "      <td>ASSAULT</td>\n",
       "      <td>9</td>\n",
       "      <td>12</td>\n",
       "      <td>61</td>\n",
       "      <td>1163662.0</td>\n",
       "      <td>1874660.0</td>\n",
       "      <td>2016</td>\n",
       "      <td>41.811698</td>\n",
       "      <td>-87.675214</td>\n",
       "      <td>(41.811697721, -87.675214316)</td>\n",
       "      <td>05/03/2016 14:00</td>\n",
       "      <td>05</td>\n",
       "      <td>03</td>\n",
       "      <td>14:00</td>\n",
       "    </tr>\n",
       "    <tr>\n",
       "      <th>3</th>\n",
       "      <td>10508597</td>\n",
       "      <td>05/03/2016 06:42:00 PM</td>\n",
       "      <td>BATTERY</td>\n",
       "      <td>8</td>\n",
       "      <td>15</td>\n",
       "      <td>66</td>\n",
       "      <td>1161829.0</td>\n",
       "      <td>1862607.0</td>\n",
       "      <td>2016</td>\n",
       "      <td>41.778661</td>\n",
       "      <td>-87.682273</td>\n",
       "      <td>(41.778661058, -87.68227253)</td>\n",
       "      <td>05/03/2016 18:00</td>\n",
       "      <td>05</td>\n",
       "      <td>03</td>\n",
       "      <td>18:00</td>\n",
       "    </tr>\n",
       "    <tr>\n",
       "      <th>4</th>\n",
       "      <td>10508598</td>\n",
       "      <td>05/03/2016 03:00:00 PM</td>\n",
       "      <td>ROBBERY</td>\n",
       "      <td>3</td>\n",
       "      <td>6</td>\n",
       "      <td>69</td>\n",
       "      <td>1178808.0</td>\n",
       "      <td>1858478.0</td>\n",
       "      <td>2016</td>\n",
       "      <td>41.766961</td>\n",
       "      <td>-87.620152</td>\n",
       "      <td>(41.766961034, -87.620152116)</td>\n",
       "      <td>05/03/2016 15:00</td>\n",
       "      <td>05</td>\n",
       "      <td>03</td>\n",
       "      <td>15:00</td>\n",
       "    </tr>\n",
       "  </tbody>\n",
       "</table>\n",
       "</div>"
      ],
      "text/plain": [
       "         ID                    Date Primary Type  District  Ward  \\\n",
       "0  10508593  05/03/2016 09:00:00 PM    NARCOTICS        11    28   \n",
       "1  10508594  05/03/2016 09:35:00 PM        THEFT         8    13   \n",
       "2  10508595  05/03/2016 02:45:00 PM      ASSAULT         9    12   \n",
       "3  10508597  05/03/2016 06:42:00 PM      BATTERY         8    15   \n",
       "4  10508598  05/03/2016 03:00:00 PM      ROBBERY         3     6   \n",
       "\n",
       "   Community Area  X Coordinate  Y Coordinate  Year   Latitude  Longitude  \\\n",
       "0              26     1148220.0     1899677.0  2016  41.880658 -87.731212   \n",
       "1              65     1149830.0     1860872.0  2016  41.774141 -87.726307   \n",
       "2              61     1163662.0     1874660.0  2016  41.811698 -87.675214   \n",
       "3              66     1161829.0     1862607.0  2016  41.778661 -87.682273   \n",
       "4              69     1178808.0     1858478.0  2016  41.766961 -87.620152   \n",
       "\n",
       "                        Location          New_Date Month Day   Time  \n",
       "0  (41.880658176, -87.731212135)  05/03/2016 21:00    05  03  21:00  \n",
       "1   (41.77414081, -87.726307093)  05/03/2016 21:00    05  03  21:00  \n",
       "2  (41.811697721, -87.675214316)  05/03/2016 14:00    05  03  14:00  \n",
       "3   (41.778661058, -87.68227253)  05/03/2016 18:00    05  03  18:00  \n",
       "4  (41.766961034, -87.620152116)  05/03/2016 15:00    05  03  15:00  "
      ]
     },
     "execution_count": 19,
     "metadata": {},
     "output_type": "execute_result"
    }
   ],
   "source": [
    "df = pd.DataFrame({'Time': time_list, 'Day': day_list, 'Month': month_list})\n",
    "s1 = df['Month']\n",
    "s2 = df['Day']\n",
    "s3 = df['Time']\n",
    "\n",
    "# concatenate new columns to the data table\n",
    "table = pd.concat([table,s1,s2,s3],axis=1)\n",
    "table.head()"
   ]
  },
  {
   "cell_type": "markdown",
   "metadata": {},
   "source": [
    "New_Date column is parsed agained and splited into Month, Day, and Time columns. Month ranges from 01 to 12, Day 01 to 31, and Time 00:00 to 23:00."
   ]
  },
  {
   "cell_type": "markdown",
   "metadata": {
    "collapsed": true
   },
   "source": [
    "## Date Analysis"
   ]
  },
  {
   "cell_type": "markdown",
   "metadata": {},
   "source": [
    "During this phase, relation variables will be examined and show interactions between the data."
   ]
  },
  {
   "cell_type": "code",
   "execution_count": 20,
   "metadata": {
    "collapsed": true
   },
   "outputs": [],
   "source": [
    "from sklearn import linear_model\n",
    "import matplotlib.pyplot as plt\n",
    "import numpy as np"
   ]
  },
  {
   "cell_type": "code",
   "execution_count": 21,
   "metadata": {
    "collapsed": false
   },
   "outputs": [],
   "source": [
    "# Finding occurrences of months\n",
    "month = []\n",
    "month_data = table['Month']\n",
    "\n",
    "# list of months (1-12)\n",
    "for x,y in month_data.iteritems():\n",
    "    if y not in month:\n",
    "        month.append(y)\n",
    "\n",
    "# sort to match month\n",
    "month.sort()\n",
    "\n",
    "# initialize to 0\n",
    "month_occ = {}\n",
    "for x in month:\n",
    "    month_occ[x] = 0\n",
    "    \n",
    "# record occurrence of each month\n",
    "for x,y in month_data.iteritems():\n",
    "    month_occ[y] = month_occ[y] + 1\n",
    "\n",
    "occur = month_occ.values()"
   ]
  },
  {
   "cell_type": "code",
   "execution_count": 22,
   "metadata": {
    "collapsed": true
   },
   "outputs": [],
   "source": [
    "# Set month names\n",
    "objects = ('Jan', 'Feb', 'Mar', 'Apr','May','Jun','Jul','Aug','Sep','Oct','Nov','Dec')\n",
    "y_pos = np.arange(len(objects))"
   ]
  },
  {
   "cell_type": "code",
   "execution_count": 23,
   "metadata": {
    "collapsed": false,
    "scrolled": false
   },
   "outputs": [
    {
     "data": {
      "image/png": "[encoded data removed]",
      "text/plain": [
       "<matplotlib.figure.Figure at 0x1ff5608e668>"
      ]
     },
     "metadata": {},
     "output_type": "display_data"
    }
   ],
   "source": [
    "# plot data of month\n",
    "plt.bar(y_pos,occur,align='center',alpha = 0.7)\n",
    "plt.xticks(y_pos, objects)\n",
    "plt.ylabel('occurrences')\n",
    "plt.title('Number of crime in 12 months')\n",
    "plt.show()"
   ]
  },
  {
   "cell_type": "markdown",
   "metadata": {},
   "source": [
    "The bar graph shows the relationship between the number of crimes and a month. It seems like there is no clear relationship between the two variables."
   ]
  },
  {
   "cell_type": "code",
   "execution_count": 24,
   "metadata": {
    "collapsed": false
   },
   "outputs": [],
   "source": [
    "# same process for hours vs crime occurrences\n",
    "time = []\n",
    "time_data = table['Time']\n",
    "\n",
    "for x,y in time_data.iteritems():\n",
    "    if y not in time:\n",
    "        time.append(y)\n",
    "time.sort()\n",
    "\n",
    "time_occ = {}\n",
    "\n",
    "for x in time:\n",
    "    time_occ[x] = 0\n",
    "    \n",
    "for x,y in time_data.iteritems():\n",
    "    time_occ[y] = time_occ[y] + 1\n",
    "    \n",
    "occur = time_occ.values()"
   ]
  },
  {
   "cell_type": "code",
   "execution_count": 25,
   "metadata": {
    "collapsed": true
   },
   "outputs": [],
   "source": [
    "objects = ('01','02','03','04','05','06','07','08','09','10','11','12','13','14','15','16','17','18','19','20','21','22','23','24')\n",
    "y_pos = np.arange(len(objects))"
   ]
  },
  {
   "cell_type": "code",
   "execution_count": 26,
   "metadata": {
    "collapsed": false
   },
   "outputs": [
    {
     "data": {
      "image/png": "[encoded data removed]",
      "text/plain": [
       "<matplotlib.figure.Figure at 0x1ff566c27f0>"
      ]
     },
     "metadata": {},
     "output_type": "display_data"
    }
   ],
   "source": [
    "plt.bar(y_pos,occur,align='center',alpha = 0.7)\n",
    "plt.xticks(y_pos, objects)\n",
    "plt.ylabel('occurrences')\n",
    "plt.title('Number of crime in 24 hours')\n",
    "plt.show()"
   ]
  },
  {
   "cell_type": "markdown",
   "metadata": {},
   "source": [
    "This graph represents the relationship between the number of crimes and hours. Here, it seems like there are more crime occurrences from 3 PM to 8PM than around 5 AM. There is a sudden increase in crime rate at 12 AM and suddent decrease at 1 AM."
   ]
  },
  {
   "cell_type": "code",
   "execution_count": 27,
   "metadata": {
    "collapsed": false
   },
   "outputs": [],
   "source": [
    "# Community vs Crime occurrences\n",
    "area = []\n",
    "area_data = table['Community Area']\n",
    "\n",
    "for x,y in area_data.iteritems():\n",
    "    if y not in area:\n",
    "        area.append(y)\n",
    "area.sort()\n",
    "\n",
    "area_occ = {}\n",
    "\n",
    "for x in area:\n",
    "    area_occ[x] = 0\n",
    "    \n",
    "for x,y in area_data.iteritems():\n",
    "    area_occ[y] = area_occ[y] + 1\n",
    "\n",
    "# need to sort occurence to get community areas where crimes were over 5000\n",
    "# ploting all 77 community areas would look too compicated\n",
    "occur = area_occ.values()\n",
    "occ = sorted(occur)"
   ]
  },
  {
   "cell_type": "code",
   "execution_count": 28,
   "metadata": {
    "collapsed": false
   },
   "outputs": [],
   "source": [
    "comm = []\n",
    "occur = []\n",
    "for x in occ:\n",
    "    for y in area_occ:\n",
    "        \n",
    "        # record community areas where crimes occurred over 5000 cases\n",
    "        if x == area_occ[y] and x > 5000:\n",
    "            comm.append(y)\n",
    "            occur.append(x)"
   ]
  },
  {
   "cell_type": "code",
   "execution_count": 29,
   "metadata": {
    "collapsed": false
   },
   "outputs": [
    {
     "data": {
      "image/png": "[encoded data removed]",
      "text/plain": [
       "<matplotlib.figure.Figure at 0x1ff56641278>"
      ]
     },
     "metadata": {},
     "output_type": "display_data"
    }
   ],
   "source": [
    "# plot crime occurrence vs \n",
    "y_pos = np.arange(len(comm))\n",
    "\n",
    "plt.bar(y_pos,occur,align='center',alpha = 0.7)\n",
    "plt.xticks(y_pos, comm)\n",
    "plt.ylabel('occurrences')\n",
    "plt.title('Number of crimes in different community areas')\n",
    "plt.show()"
   ]
  },
  {
   "cell_type": "markdown",
   "metadata": {},
   "source": [
    "This graph examines where crimes are mostly likely to happen. The numbers represent the community area code. These are the community areas where crimes occurred more than 5000 cases. It seems like community area 25 has the highest crime rate. "
   ]
  },
  {
   "cell_type": "code",
   "execution_count": 30,
   "metadata": {
    "collapsed": false
   },
   "outputs": [
    {
     "data": {
      "text/plain": [
       "{'ASSAULT': 18076,\n",
       " 'BATTERY': 48668,\n",
       " 'BURGLARY': 13614,\n",
       " 'CRIMINAL DAMAGE': 30186,\n",
       " 'DECEPTIVE PRACTICE': 13510,\n",
       " 'MOTOR VEHICLE THEFT': 10920,\n",
       " 'NARCOTICS': 10663,\n",
       " 'OTHER OFFENSE': 15882,\n",
       " 'ROBBERY': 11603,\n",
       " 'THEFT': 58329}"
      ]
     },
     "execution_count": 30,
     "metadata": {},
     "output_type": "execute_result"
    }
   ],
   "source": [
    "crime_data = table['Primary Type']\n",
    "crime = []\n",
    "\n",
    "for x,y in crime_data.iteritems():\n",
    "    if y not in crime:\n",
    "        crime.append(y)\n",
    "crime.sort()\n",
    "\n",
    "crime_occ = {}\n",
    "\n",
    "for x in crime:\n",
    "    crime_occ[x] = 0\n",
    "    \n",
    "for x,y in crime_data.iteritems():\n",
    "    crime_occ[y] = crime_occ[y] + 1\n",
    "    \n",
    "occur = crime_occ.values()\n",
    "occ = sorted(occur)\n",
    "occ\n",
    "crime_occ"
   ]
  },
  {
   "cell_type": "code",
   "execution_count": 31,
   "metadata": {
    "collapsed": false
   },
   "outputs": [],
   "source": [
    "crim = []\n",
    "occur = []\n",
    "for x in occ:\n",
    "    for y in crime_occ:\n",
    "        if x == crime_occ[y]:\n",
    "            crim.append(y)\n",
    "            occur.append(x)"
   ]
  },
  {
   "cell_type": "code",
   "execution_count": 32,
   "metadata": {
    "collapsed": false,
    "scrolled": true
   },
   "outputs": [
    {
     "data": {
      "image/png": "[encoded data removed]",
      "text/plain": [
       "<matplotlib.figure.Figure at 0x1ff5691f390>"
      ]
     },
     "metadata": {},
     "output_type": "display_data"
    }
   ],
   "source": [
    "\n",
    "y_pos = np.arange(len(crim))\n",
    "\n",
    "plt.bar(y_pos,occur,align='center',alpha = 0.7)\n",
    "plt.xticks(y_pos, crim)\n",
    "plt.ylabel('occurrences')\n",
    "plt.title('Types of Crimes')\n",
    "plt.show()"
   ]
  },
  {
   "cell_type": "markdown",
   "metadata": {},
   "source": [
    "This shows which type of crimes occurred the most in Chicago."
   ]
  },
  {
   "cell_type": "code",
   "execution_count": null,
   "metadata": {
    "collapsed": false
   },
   "outputs": [],
   "source": []
  }
 ],
 "metadata": {
  "kernelspec": {
   "display_name": "Python 3",
   "language": "python",
   "name": "python3"
  },
  "language_info": {
   "codemirror_mode": {
    "name": "ipython",
    "version": 3
   },
   "file_extension": ".py",
   "mimetype": "text/x-python",
   "name": "python",
   "nbconvert_exporter": "python",
   "pygments_lexer": "ipython3",
   "version": "3.6.0"
  }
 },
 "nbformat": 4,
 "nbformat_minor": 2
}
