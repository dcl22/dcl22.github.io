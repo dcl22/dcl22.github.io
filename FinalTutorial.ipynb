{
 "cells": [
  {
   "cell_type": "code",
   "execution_count": 1,
   "metadata": {
    "collapsed": true
   },
   "outputs": [],
   "source": [
    "import pandas as pd\n",
    "import numpy as np"
   ]
  },
  {
   "cell_type": "code",
   "execution_count": 3,
   "metadata": {
    "collapsed": false
   },
   "outputs": [],
   "source": [
    "# reading csv file\n",
    "table = pd.read_csv(\"Crimes_-_2016.csv\")"
   ]
  },
  {
   "cell_type": "code",
   "execution_count": 4,
   "metadata": {
    "collapsed": false
   },
   "outputs": [
    {
     "data": {
      "text/html": [
       "<div>\n",
       "<table border=\"1\" class=\"dataframe\">\n",
       "  <thead>\n",
       "    <tr style=\"text-align: right;\">\n",
       "      <th></th>\n",
       "      <th>ID</th>\n",
       "      <th>Case Number</th>\n",
       "      <th>Date</th>\n",
       "      <th>Block</th>\n",
       "      <th>IUCR</th>\n",
       "      <th>Primary Type</th>\n",
       "      <th>Description</th>\n",
       "      <th>Location Description</th>\n",
       "      <th>Arrest</th>\n",
       "      <th>Domestic</th>\n",
       "      <th>...</th>\n",
       "      <th>Ward</th>\n",
       "      <th>Community Area</th>\n",
       "      <th>FBI Code</th>\n",
       "      <th>X Coordinate</th>\n",
       "      <th>Y Coordinate</th>\n",
       "      <th>Year</th>\n",
       "      <th>Updated On</th>\n",
       "      <th>Latitude</th>\n",
       "      <th>Longitude</th>\n",
       "      <th>Location</th>\n",
       "    </tr>\n",
       "  </thead>\n",
       "  <tbody>\n",
       "    <tr>\n",
       "      <th>0</th>\n",
       "      <td>10508593</td>\n",
       "      <td>HZ250410</td>\n",
       "      <td>05/03/2016 09:00:00 PM</td>\n",
       "      <td>042XX W MADISON ST</td>\n",
       "      <td>1811</td>\n",
       "      <td>NARCOTICS</td>\n",
       "      <td>POSS: CANNABIS 30GMS OR LESS</td>\n",
       "      <td>SIDEWALK</td>\n",
       "      <td>True</td>\n",
       "      <td>False</td>\n",
       "      <td>...</td>\n",
       "      <td>28</td>\n",
       "      <td>26</td>\n",
       "      <td>18</td>\n",
       "      <td>1148220.0</td>\n",
       "      <td>1899677.0</td>\n",
       "      <td>2016</td>\n",
       "      <td>05/10/2016 03:56:50 PM</td>\n",
       "      <td>41.880658</td>\n",
       "      <td>-87.731212</td>\n",
       "      <td>(41.880658176, -87.731212135)</td>\n",
       "    </tr>\n",
       "    <tr>\n",
       "      <th>1</th>\n",
       "      <td>10508594</td>\n",
       "      <td>HZ250385</td>\n",
       "      <td>05/03/2016 09:35:00 PM</td>\n",
       "      <td>065XX S KEDVALE AVE</td>\n",
       "      <td>0810</td>\n",
       "      <td>THEFT</td>\n",
       "      <td>OVER $500</td>\n",
       "      <td>APARTMENT</td>\n",
       "      <td>False</td>\n",
       "      <td>True</td>\n",
       "      <td>...</td>\n",
       "      <td>13</td>\n",
       "      <td>65</td>\n",
       "      <td>06</td>\n",
       "      <td>1149830.0</td>\n",
       "      <td>1860872.0</td>\n",
       "      <td>2016</td>\n",
       "      <td>05/10/2016 03:56:50 PM</td>\n",
       "      <td>41.774141</td>\n",
       "      <td>-87.726307</td>\n",
       "      <td>(41.77414081, -87.726307093)</td>\n",
       "    </tr>\n",
       "    <tr>\n",
       "      <th>2</th>\n",
       "      <td>10508595</td>\n",
       "      <td>HZ250362</td>\n",
       "      <td>05/03/2016 02:45:00 PM</td>\n",
       "      <td>045XX S DAMEN AVE</td>\n",
       "      <td>0560</td>\n",
       "      <td>ASSAULT</td>\n",
       "      <td>SIMPLE</td>\n",
       "      <td>STREET</td>\n",
       "      <td>False</td>\n",
       "      <td>True</td>\n",
       "      <td>...</td>\n",
       "      <td>12</td>\n",
       "      <td>61</td>\n",
       "      <td>08A</td>\n",
       "      <td>1163662.0</td>\n",
       "      <td>1874660.0</td>\n",
       "      <td>2016</td>\n",
       "      <td>05/10/2016 03:56:50 PM</td>\n",
       "      <td>41.811698</td>\n",
       "      <td>-87.675214</td>\n",
       "      <td>(41.811697721, -87.675214316)</td>\n",
       "    </tr>\n",
       "    <tr>\n",
       "      <th>3</th>\n",
       "      <td>10508597</td>\n",
       "      <td>HZ250202</td>\n",
       "      <td>05/03/2016 06:42:00 PM</td>\n",
       "      <td>063XX S CLAREMONT AVE</td>\n",
       "      <td>0486</td>\n",
       "      <td>BATTERY</td>\n",
       "      <td>DOMESTIC BATTERY SIMPLE</td>\n",
       "      <td>SIDEWALK</td>\n",
       "      <td>False</td>\n",
       "      <td>True</td>\n",
       "      <td>...</td>\n",
       "      <td>15</td>\n",
       "      <td>66</td>\n",
       "      <td>08B</td>\n",
       "      <td>1161829.0</td>\n",
       "      <td>1862607.0</td>\n",
       "      <td>2016</td>\n",
       "      <td>05/10/2016 03:56:50 PM</td>\n",
       "      <td>41.778661</td>\n",
       "      <td>-87.682273</td>\n",
       "      <td>(41.778661058, -87.68227253)</td>\n",
       "    </tr>\n",
       "    <tr>\n",
       "      <th>4</th>\n",
       "      <td>10508598</td>\n",
       "      <td>HZ250298</td>\n",
       "      <td>05/03/2016 03:00:00 PM</td>\n",
       "      <td>070XX S INDIANA AVE</td>\n",
       "      <td>0320</td>\n",
       "      <td>ROBBERY</td>\n",
       "      <td>STRONGARM - NO WEAPON</td>\n",
       "      <td>SIDEWALK</td>\n",
       "      <td>False</td>\n",
       "      <td>False</td>\n",
       "      <td>...</td>\n",
       "      <td>6</td>\n",
       "      <td>69</td>\n",
       "      <td>03</td>\n",
       "      <td>1178808.0</td>\n",
       "      <td>1858478.0</td>\n",
       "      <td>2016</td>\n",
       "      <td>05/10/2016 03:56:50 PM</td>\n",
       "      <td>41.766961</td>\n",
       "      <td>-87.620152</td>\n",
       "      <td>(41.766961034, -87.620152116)</td>\n",
       "    </tr>\n",
       "  </tbody>\n",
       "</table>\n",
       "<p>5 rows × 22 columns</p>\n",
       "</div>"
      ],
      "text/plain": [
       "         ID Case Number                    Date                  Block  IUCR  \\\n",
       "0  10508593    HZ250410  05/03/2016 09:00:00 PM     042XX W MADISON ST  1811   \n",
       "1  10508594    HZ250385  05/03/2016 09:35:00 PM    065XX S KEDVALE AVE  0810   \n",
       "2  10508595    HZ250362  05/03/2016 02:45:00 PM      045XX S DAMEN AVE  0560   \n",
       "3  10508597    HZ250202  05/03/2016 06:42:00 PM  063XX S CLAREMONT AVE  0486   \n",
       "4  10508598    HZ250298  05/03/2016 03:00:00 PM    070XX S INDIANA AVE  0320   \n",
       "\n",
       "  Primary Type                   Description Location Description Arrest  \\\n",
       "0    NARCOTICS  POSS: CANNABIS 30GMS OR LESS             SIDEWALK   True   \n",
       "1        THEFT                     OVER $500            APARTMENT  False   \n",
       "2      ASSAULT                        SIMPLE               STREET  False   \n",
       "3      BATTERY       DOMESTIC BATTERY SIMPLE             SIDEWALK  False   \n",
       "4      ROBBERY         STRONGARM - NO WEAPON             SIDEWALK  False   \n",
       "\n",
       "  Domestic              ...                Ward  Community Area  FBI Code  \\\n",
       "0    False              ...                  28              26        18   \n",
       "1     True              ...                  13              65        06   \n",
       "2     True              ...                  12              61       08A   \n",
       "3     True              ...                  15              66       08B   \n",
       "4    False              ...                   6              69        03   \n",
       "\n",
       "   X Coordinate Y Coordinate  Year              Updated On   Latitude  \\\n",
       "0     1148220.0    1899677.0  2016  05/10/2016 03:56:50 PM  41.880658   \n",
       "1     1149830.0    1860872.0  2016  05/10/2016 03:56:50 PM  41.774141   \n",
       "2     1163662.0    1874660.0  2016  05/10/2016 03:56:50 PM  41.811698   \n",
       "3     1161829.0    1862607.0  2016  05/10/2016 03:56:50 PM  41.778661   \n",
       "4     1178808.0    1858478.0  2016  05/10/2016 03:56:50 PM  41.766961   \n",
       "\n",
       "   Longitude                       Location  \n",
       "0 -87.731212  (41.880658176, -87.731212135)  \n",
       "1 -87.726307   (41.77414081, -87.726307093)  \n",
       "2 -87.675214  (41.811697721, -87.675214316)  \n",
       "3 -87.682273   (41.778661058, -87.68227253)  \n",
       "4 -87.620152  (41.766961034, -87.620152116)  \n",
       "\n",
       "[5 rows x 22 columns]"
      ]
     },
     "execution_count": 4,
     "metadata": {},
     "output_type": "execute_result"
    }
   ],
   "source": [
    "# show head of the table\n",
    "table.head()"
   ]
  },
  {
   "cell_type": "code",
   "execution_count": 5,
   "metadata": {
    "collapsed": false
   },
   "outputs": [
    {
     "data": {
      "text/plain": [
       "['ID',\n",
       " 'Case Number',\n",
       " 'Date',\n",
       " 'Block',\n",
       " 'IUCR',\n",
       " 'Primary Type',\n",
       " 'Description',\n",
       " 'Location Description',\n",
       " 'Arrest',\n",
       " 'Domestic',\n",
       " 'Beat',\n",
       " 'District',\n",
       " 'Ward',\n",
       " 'Community Area',\n",
       " 'FBI Code',\n",
       " 'X Coordinate',\n",
       " 'Y Coordinate',\n",
       " 'Year',\n",
       " 'Updated On',\n",
       " 'Latitude',\n",
       " 'Longitude',\n",
       " 'Location']"
      ]
     },
     "execution_count": 5,
     "metadata": {},
     "output_type": "execute_result"
    }
   ],
   "source": [
    "# show column names\n",
    "list(table)"
   ]
  },
  {
   "cell_type": "code",
   "execution_count": 16,
   "metadata": {
    "collapsed": false
   },
   "outputs": [
    {
     "data": {
      "text/plain": [
       "250515"
      ]
     },
     "execution_count": 16,
     "metadata": {},
     "output_type": "execute_result"
    }
   ],
   "source": [
    "# dropping any rows that contain NaN value\n",
    "\n",
    "table = table.dropna()\n",
    "len(table)"
   ]
  },
  {
   "cell_type": "code",
   "execution_count": 22,
   "metadata": {
    "collapsed": false
   },
   "outputs": [
    {
     "ename": "ValueError",
     "evalue": "labels ['FBI Code'] not contained in axis",
     "output_type": "error",
     "traceback": [
      "\u001b[0;31m---------------------------------------------------------------------------\u001b[0m",
      "\u001b[0;31mValueError\u001b[0m                                Traceback (most recent call last)",
      "\u001b[0;32m<ipython-input-22-a503bbc007fd>\u001b[0m in \u001b[0;36m<module>\u001b[0;34m()\u001b[0m\n\u001b[0;32m----> 1\u001b[0;31m \u001b[0mtable\u001b[0m \u001b[1;33m=\u001b[0m \u001b[0mtable\u001b[0m\u001b[1;33m.\u001b[0m\u001b[0mdrop\u001b[0m\u001b[1;33m(\u001b[0m\u001b[1;34m'FBI Code'\u001b[0m\u001b[1;33m,\u001b[0m\u001b[1;36m1\u001b[0m\u001b[1;33m)\u001b[0m\u001b[1;33m\u001b[0m\u001b[0m\n\u001b[0m\u001b[1;32m      2\u001b[0m \u001b[0mtable\u001b[0m \u001b[1;33m=\u001b[0m \u001b[0mtable\u001b[0m\u001b[1;33m.\u001b[0m\u001b[0mdrop\u001b[0m\u001b[1;33m(\u001b[0m\u001b[1;34m'Updated On'\u001b[0m\u001b[1;33m,\u001b[0m\u001b[1;36m1\u001b[0m\u001b[1;33m)\u001b[0m\u001b[1;33m\u001b[0m\u001b[0m\n\u001b[1;32m      3\u001b[0m \u001b[0mtable\u001b[0m \u001b[1;33m=\u001b[0m \u001b[0mtable\u001b[0m\u001b[1;33m.\u001b[0m\u001b[0mdrop\u001b[0m\u001b[1;33m(\u001b[0m\u001b[1;34m'Ward'\u001b[0m\u001b[1;33m,\u001b[0m \u001b[1;36m1\u001b[0m\u001b[1;33m)\u001b[0m\u001b[1;33m\u001b[0m\u001b[0m\n\u001b[1;32m      4\u001b[0m \u001b[0mtable\u001b[0m \u001b[1;33m=\u001b[0m \u001b[0mtable\u001b[0m\u001b[1;33m.\u001b[0m\u001b[0mdrop\u001b[0m\u001b[1;33m(\u001b[0m\u001b[1;34m'District'\u001b[0m\u001b[1;33m,\u001b[0m\u001b[1;36m1\u001b[0m\u001b[1;33m)\u001b[0m\u001b[1;33m\u001b[0m\u001b[0m\n\u001b[1;32m      5\u001b[0m \u001b[0mtable\u001b[0m \u001b[1;33m=\u001b[0m \u001b[0mtable\u001b[0m\u001b[1;33m.\u001b[0m\u001b[0mdrop\u001b[0m\u001b[1;33m(\u001b[0m\u001b[1;34m'Beat'\u001b[0m\u001b[1;33m,\u001b[0m\u001b[1;36m1\u001b[0m\u001b[1;33m)\u001b[0m\u001b[1;33m\u001b[0m\u001b[0m\n",
      "\u001b[0;32mC:\\Users\\PC\\Anaconda3\\lib\\site-packages\\pandas\\core\\generic.py\u001b[0m in \u001b[0;36mdrop\u001b[0;34m(self, labels, axis, level, inplace, errors)\u001b[0m\n\u001b[1;32m   1905\u001b[0m                 \u001b[0mnew_axis\u001b[0m \u001b[1;33m=\u001b[0m \u001b[0maxis\u001b[0m\u001b[1;33m.\u001b[0m\u001b[0mdrop\u001b[0m\u001b[1;33m(\u001b[0m\u001b[0mlabels\u001b[0m\u001b[1;33m,\u001b[0m \u001b[0mlevel\u001b[0m\u001b[1;33m=\u001b[0m\u001b[0mlevel\u001b[0m\u001b[1;33m,\u001b[0m \u001b[0merrors\u001b[0m\u001b[1;33m=\u001b[0m\u001b[0merrors\u001b[0m\u001b[1;33m)\u001b[0m\u001b[1;33m\u001b[0m\u001b[0m\n\u001b[1;32m   1906\u001b[0m             \u001b[1;32melse\u001b[0m\u001b[1;33m:\u001b[0m\u001b[1;33m\u001b[0m\u001b[0m\n\u001b[0;32m-> 1907\u001b[0;31m                 \u001b[0mnew_axis\u001b[0m \u001b[1;33m=\u001b[0m \u001b[0maxis\u001b[0m\u001b[1;33m.\u001b[0m\u001b[0mdrop\u001b[0m\u001b[1;33m(\u001b[0m\u001b[0mlabels\u001b[0m\u001b[1;33m,\u001b[0m \u001b[0merrors\u001b[0m\u001b[1;33m=\u001b[0m\u001b[0merrors\u001b[0m\u001b[1;33m)\u001b[0m\u001b[1;33m\u001b[0m\u001b[0m\n\u001b[0m\u001b[1;32m   1908\u001b[0m             \u001b[0mdropped\u001b[0m \u001b[1;33m=\u001b[0m \u001b[0mself\u001b[0m\u001b[1;33m.\u001b[0m\u001b[0mreindex\u001b[0m\u001b[1;33m(\u001b[0m\u001b[1;33m**\u001b[0m\u001b[1;33m{\u001b[0m\u001b[0maxis_name\u001b[0m\u001b[1;33m:\u001b[0m \u001b[0mnew_axis\u001b[0m\u001b[1;33m}\u001b[0m\u001b[1;33m)\u001b[0m\u001b[1;33m\u001b[0m\u001b[0m\n\u001b[1;32m   1909\u001b[0m             \u001b[1;32mtry\u001b[0m\u001b[1;33m:\u001b[0m\u001b[1;33m\u001b[0m\u001b[0m\n",
      "\u001b[0;32mC:\\Users\\PC\\Anaconda3\\lib\\site-packages\\pandas\\indexes\\base.py\u001b[0m in \u001b[0;36mdrop\u001b[0;34m(self, labels, errors)\u001b[0m\n\u001b[1;32m   3260\u001b[0m             \u001b[1;32mif\u001b[0m \u001b[0merrors\u001b[0m \u001b[1;33m!=\u001b[0m \u001b[1;34m'ignore'\u001b[0m\u001b[1;33m:\u001b[0m\u001b[1;33m\u001b[0m\u001b[0m\n\u001b[1;32m   3261\u001b[0m                 raise ValueError('labels %s not contained in axis' %\n\u001b[0;32m-> 3262\u001b[0;31m                                  labels[mask])\n\u001b[0m\u001b[1;32m   3263\u001b[0m             \u001b[0mindexer\u001b[0m \u001b[1;33m=\u001b[0m \u001b[0mindexer\u001b[0m\u001b[1;33m[\u001b[0m\u001b[1;33m~\u001b[0m\u001b[0mmask\u001b[0m\u001b[1;33m]\u001b[0m\u001b[1;33m\u001b[0m\u001b[0m\n\u001b[1;32m   3264\u001b[0m         \u001b[1;32mreturn\u001b[0m \u001b[0mself\u001b[0m\u001b[1;33m.\u001b[0m\u001b[0mdelete\u001b[0m\u001b[1;33m(\u001b[0m\u001b[0mindexer\u001b[0m\u001b[1;33m)\u001b[0m\u001b[1;33m\u001b[0m\u001b[0m\n",
      "\u001b[0;31mValueError\u001b[0m: labels ['FBI Code'] not contained in axis"
     ]
    }
   ],
   "source": [
    "# drop useless data\n",
    "table = table.drop('FBI Code',1)\n",
    "table = table.drop('Updated On',1)\n",
    "table = table.drop('Ward', 1)\n",
    "table = table.drop('District',1)\n",
    "table = table.drop('Beat',1)\n",
    "table = table.drop('Location Description',1)\n",
    "table = table.drop('Case Number',1)"
   ]
  },
  {
   "cell_type": "code",
   "execution_count": 24,
   "metadata": {
    "collapsed": false
   },
   "outputs": [
    {
     "data": {
      "text/html": [
       "<div>\n",
       "<table border=\"1\" class=\"dataframe\">\n",
       "  <thead>\n",
       "    <tr style=\"text-align: right;\">\n",
       "      <th></th>\n",
       "      <th>ID</th>\n",
       "      <th>Date</th>\n",
       "      <th>Block</th>\n",
       "      <th>IUCR</th>\n",
       "      <th>Primary Type</th>\n",
       "      <th>Description</th>\n",
       "      <th>Arrest</th>\n",
       "      <th>Domestic</th>\n",
       "      <th>Community Area</th>\n",
       "      <th>X Coordinate</th>\n",
       "      <th>Y Coordinate</th>\n",
       "      <th>Year</th>\n",
       "      <th>Latitude</th>\n",
       "      <th>Longitude</th>\n",
       "      <th>Location</th>\n",
       "    </tr>\n",
       "  </thead>\n",
       "  <tbody>\n",
       "    <tr>\n",
       "      <th>0</th>\n",
       "      <td>10508593</td>\n",
       "      <td>05/03/2016 09:00:00 PM</td>\n",
       "      <td>042XX W MADISON ST</td>\n",
       "      <td>1811</td>\n",
       "      <td>NARCOTICS</td>\n",
       "      <td>POSS: CANNABIS 30GMS OR LESS</td>\n",
       "      <td>True</td>\n",
       "      <td>False</td>\n",
       "      <td>26</td>\n",
       "      <td>1148220.0</td>\n",
       "      <td>1899677.0</td>\n",
       "      <td>2016</td>\n",
       "      <td>41.880658</td>\n",
       "      <td>-87.731212</td>\n",
       "      <td>(41.880658176, -87.731212135)</td>\n",
       "    </tr>\n",
       "    <tr>\n",
       "      <th>1</th>\n",
       "      <td>10508594</td>\n",
       "      <td>05/03/2016 09:35:00 PM</td>\n",
       "      <td>065XX S KEDVALE AVE</td>\n",
       "      <td>0810</td>\n",
       "      <td>THEFT</td>\n",
       "      <td>OVER $500</td>\n",
       "      <td>False</td>\n",
       "      <td>True</td>\n",
       "      <td>65</td>\n",
       "      <td>1149830.0</td>\n",
       "      <td>1860872.0</td>\n",
       "      <td>2016</td>\n",
       "      <td>41.774141</td>\n",
       "      <td>-87.726307</td>\n",
       "      <td>(41.77414081, -87.726307093)</td>\n",
       "    </tr>\n",
       "    <tr>\n",
       "      <th>2</th>\n",
       "      <td>10508595</td>\n",
       "      <td>05/03/2016 02:45:00 PM</td>\n",
       "      <td>045XX S DAMEN AVE</td>\n",
       "      <td>0560</td>\n",
       "      <td>ASSAULT</td>\n",
       "      <td>SIMPLE</td>\n",
       "      <td>False</td>\n",
       "      <td>True</td>\n",
       "      <td>61</td>\n",
       "      <td>1163662.0</td>\n",
       "      <td>1874660.0</td>\n",
       "      <td>2016</td>\n",
       "      <td>41.811698</td>\n",
       "      <td>-87.675214</td>\n",
       "      <td>(41.811697721, -87.675214316)</td>\n",
       "    </tr>\n",
       "    <tr>\n",
       "      <th>3</th>\n",
       "      <td>10508597</td>\n",
       "      <td>05/03/2016 06:42:00 PM</td>\n",
       "      <td>063XX S CLAREMONT AVE</td>\n",
       "      <td>0486</td>\n",
       "      <td>BATTERY</td>\n",
       "      <td>DOMESTIC BATTERY SIMPLE</td>\n",
       "      <td>False</td>\n",
       "      <td>True</td>\n",
       "      <td>66</td>\n",
       "      <td>1161829.0</td>\n",
       "      <td>1862607.0</td>\n",
       "      <td>2016</td>\n",
       "      <td>41.778661</td>\n",
       "      <td>-87.682273</td>\n",
       "      <td>(41.778661058, -87.68227253)</td>\n",
       "    </tr>\n",
       "    <tr>\n",
       "      <th>4</th>\n",
       "      <td>10508598</td>\n",
       "      <td>05/03/2016 03:00:00 PM</td>\n",
       "      <td>070XX S INDIANA AVE</td>\n",
       "      <td>0320</td>\n",
       "      <td>ROBBERY</td>\n",
       "      <td>STRONGARM - NO WEAPON</td>\n",
       "      <td>False</td>\n",
       "      <td>False</td>\n",
       "      <td>69</td>\n",
       "      <td>1178808.0</td>\n",
       "      <td>1858478.0</td>\n",
       "      <td>2016</td>\n",
       "      <td>41.766961</td>\n",
       "      <td>-87.620152</td>\n",
       "      <td>(41.766961034, -87.620152116)</td>\n",
       "    </tr>\n",
       "  </tbody>\n",
       "</table>\n",
       "</div>"
      ],
      "text/plain": [
       "         ID                    Date                  Block  IUCR Primary Type  \\\n",
       "0  10508593  05/03/2016 09:00:00 PM     042XX W MADISON ST  1811    NARCOTICS   \n",
       "1  10508594  05/03/2016 09:35:00 PM    065XX S KEDVALE AVE  0810        THEFT   \n",
       "2  10508595  05/03/2016 02:45:00 PM      045XX S DAMEN AVE  0560      ASSAULT   \n",
       "3  10508597  05/03/2016 06:42:00 PM  063XX S CLAREMONT AVE  0486      BATTERY   \n",
       "4  10508598  05/03/2016 03:00:00 PM    070XX S INDIANA AVE  0320      ROBBERY   \n",
       "\n",
       "                    Description Arrest Domestic  Community Area  X Coordinate  \\\n",
       "0  POSS: CANNABIS 30GMS OR LESS   True    False              26     1148220.0   \n",
       "1                     OVER $500  False     True              65     1149830.0   \n",
       "2                        SIMPLE  False     True              61     1163662.0   \n",
       "3       DOMESTIC BATTERY SIMPLE  False     True              66     1161829.0   \n",
       "4         STRONGARM - NO WEAPON  False    False              69     1178808.0   \n",
       "\n",
       "   Y Coordinate  Year   Latitude  Longitude                       Location  \n",
       "0     1899677.0  2016  41.880658 -87.731212  (41.880658176, -87.731212135)  \n",
       "1     1860872.0  2016  41.774141 -87.726307   (41.77414081, -87.726307093)  \n",
       "2     1874660.0  2016  41.811698 -87.675214  (41.811697721, -87.675214316)  \n",
       "3     1862607.0  2016  41.778661 -87.682273   (41.778661058, -87.68227253)  \n",
       "4     1858478.0  2016  41.766961 -87.620152  (41.766961034, -87.620152116)  "
      ]
     },
     "execution_count": 24,
     "metadata": {},
     "output_type": "execute_result"
    }
   ],
   "source": [
    "table.head()"
   ]
  },
  {
   "cell_type": "code",
   "execution_count": 89,
   "metadata": {
    "collapsed": false
   },
   "outputs": [
    {
     "data": {
      "text/plain": [
       "{'ARSON': 501,\n",
       " 'ASSAULT': 18076,\n",
       " 'BATTERY': 48668,\n",
       " 'BURGLARY': 13614,\n",
       " 'CRIM SEXUAL ASSAULT': 1259,\n",
       " 'CRIMINAL DAMAGE': 30186,\n",
       " 'CRIMINAL TRESPASS': 6206,\n",
       " 'DECEPTIVE PRACTICE': 13510,\n",
       " 'GAMBLING': 188,\n",
       " 'HOMICIDE': 750,\n",
       " 'INTERFERENCE WITH PUBLIC OFFICER': 926,\n",
       " 'INTIMIDATION': 120,\n",
       " 'KIDNAPPING': 193,\n",
       " 'LIQUOR LAW VIOLATION': 210,\n",
       " 'MOTOR VEHICLE THEFT': 10920,\n",
       " 'NARCOTICS': 10663,\n",
       " 'OFFENSE INVOLVING CHILDREN': 1898,\n",
       " 'OTHER OFFENSE': 15882,\n",
       " 'PROSTITUTION': 780,\n",
       " 'PUBLIC PEACE VIOLATION': 1580,\n",
       " 'ROBBERY': 11603,\n",
       " 'SEX OFFENSE': 766,\n",
       " 'STALKING': 142,\n",
       " 'THEFT': 58329,\n",
       " 'WEAPONS VIOLATION': 3398}"
      ]
     },
     "execution_count": 89,
     "metadata": {},
     "output_type": "execute_result"
    }
   ],
   "source": [
    "# make a list of crime types\n",
    "list = []\n",
    "crime_type = table['Primary Type']\n",
    "for x,y in crime_type.iteritems():\n",
    "    if y not in list:\n",
    "        list.append(y)\n",
    "        \n",
    "# check number of occurences for each crime type.\n",
    "list2 = {}\n",
    "for x in list:\n",
    "    list2[x] = 0\n",
    "\n",
    "for x,y in crime_type.iteritems():\n",
    "    list2[y] = list2[y] + 1\n",
    "list2"
   ]
  },
  {
   "cell_type": "code",
   "execution_count": 83,
   "metadata": {
    "collapsed": false
   },
   "outputs": [],
   "source": [
    "# deleting crime types that have less than 100 occurrences\n",
    "table = table[table[\"Primary Type\"] != 'NON-CRIMINAL']\n",
    "table = table[table[\"Primary Type\"] != 'NON - CRIMINAL']\n",
    "table = table[table[\"Primary Type\"] != 'NON-CRIMINAL (SUBJECT SPECIFIED)']\n",
    "table = table[table[\"Primary Type\"] != 'PUBLIC INDECENCY']\n",
    "table = table[table[\"Primary Type\"] != 'OTHER NARCOTIC VIOLATION']\n",
    "table = table[table[\"Primary Type\"] != 'HUMAN TRAFFICKING']\n",
    "table = table[table[\"Primary Type\"] != 'OBSCENITY']\n",
    "table = table[table[\"Primary Type\"] != 'CONCEALED CARRY LICENSE VIOLATION']"
   ]
  },
  {
   "cell_type": "code",
   "execution_count": 84,
   "metadata": {
    "collapsed": false
   },
   "outputs": [
    {
     "data": {
      "text/plain": [
       "{'ARSON': 501,\n",
       " 'ASSAULT': 18076,\n",
       " 'BATTERY': 48668,\n",
       " 'BURGLARY': 13614,\n",
       " 'CRIM SEXUAL ASSAULT': 1259,\n",
       " 'CRIMINAL DAMAGE': 30186,\n",
       " 'CRIMINAL TRESPASS': 6206,\n",
       " 'DECEPTIVE PRACTICE': 13510,\n",
       " 'GAMBLING': 188,\n",
       " 'HOMICIDE': 750,\n",
       " 'INTERFERENCE WITH PUBLIC OFFICER': 926,\n",
       " 'INTIMIDATION': 120,\n",
       " 'KIDNAPPING': 193,\n",
       " 'LIQUOR LAW VIOLATION': 210,\n",
       " 'MOTOR VEHICLE THEFT': 10920,\n",
       " 'NARCOTICS': 10663,\n",
       " 'OFFENSE INVOLVING CHILDREN': 1898,\n",
       " 'OTHER OFFENSE': 15882,\n",
       " 'PROSTITUTION': 780,\n",
       " 'PUBLIC PEACE VIOLATION': 1580,\n",
       " 'ROBBERY': 11603,\n",
       " 'SEX OFFENSE': 766,\n",
       " 'STALKING': 142,\n",
       " 'THEFT': 58329,\n",
       " 'WEAPONS VIOLATION': 3398}"
      ]
     },
     "execution_count": 84,
     "metadata": {},
     "output_type": "execute_result"
    }
   ],
   "source": [
    "# checking\n",
    "list = []\n",
    "crime_type = table['Primary Type']\n",
    "for x,y in crime_type.iteritems():\n",
    "    if y not in list:\n",
    "        list.append(y)\n",
    "list2 = {}\n",
    "for x in list:\n",
    "    list2[x] = 0\n",
    "for x,y in crime_type.iteritems():\n",
    "    list2[y] = list2[y] + 1\n",
    "list2"
   ]
  },
  {
   "cell_type": "code",
   "execution_count": null,
   "metadata": {
    "collapsed": true
   },
   "outputs": [],
   "source": []
  },
  {
   "cell_type": "code",
   "execution_count": null,
   "metadata": {
    "collapsed": true
   },
   "outputs": [],
   "source": []
  },
  {
   "cell_type": "code",
   "execution_count": 30,
   "metadata": {
    "collapsed": false
   },
   "outputs": [
    {
     "data": {
      "text/plain": [
       "'1'"
      ]
     },
     "execution_count": 30,
     "metadata": {},
     "output_type": "execute_result"
    }
   ],
   "source": [
    "# 반올림 hr\n",
    "# integrate time by 6 hr\n",
    "# date and time\n",
    "# reduce data\n"
   ]
  },
  {
   "cell_type": "code",
   "execution_count": 31,
   "metadata": {
    "collapsed": false
   },
   "outputs": [
    {
     "data": {
      "text/plain": [
       "[]"
      ]
     },
     "execution_count": 31,
     "metadata": {},
     "output_type": "execute_result"
    }
   ],
   "source": []
  },
  {
   "cell_type": "code",
   "execution_count": null,
   "metadata": {
    "collapsed": true
   },
   "outputs": [],
   "source": []
  }
 ],
 "metadata": {
  "kernelspec": {
   "display_name": "Python 3",
   "language": "python",
   "name": "python3"
  },
  "language_info": {
   "codemirror_mode": {
    "name": "ipython",
    "version": 3
   },
   "file_extension": ".py",
   "mimetype": "text/x-python",
   "name": "python",
   "nbconvert_exporter": "python",
   "pygments_lexer": "ipython3",
   "version": "3.6.0"
  }
 },
 "nbformat": 4,
 "nbformat_minor": 2
}
